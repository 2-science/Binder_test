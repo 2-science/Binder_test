{
 "cells": [
  {
   "cell_type": "markdown",
   "metadata": {},
   "source": [
    "# Solar Radiation\n",
    "\n",
    "© Dimitrios Theodorakis GNU General Public License v3.0 \u000b",
    "https://github.com/DimitriosAstro/Astronomy"
   ]
  },
  {
   "cell_type": "code",
   "execution_count": 1,
   "metadata": {},
   "outputs": [],
   "source": [
    "import numpy as np\n",
    "import matplotlib.pyplot as plt\n",
    "from IPython.display import Image\n",
    "%matplotlib inline"
   ]
  },
  {
   "cell_type": "markdown",
   "metadata": {},
   "source": [
    "### AIM - Visualise the blackbody radiation from different temperature suns and calculate the effective temperature of planets.\n",
    "\n",
    "**Predict**\n",
    "\n",
    "Have a think about these questions and make some predictions! Be sure to tell someone else what you predict.\n",
    "\n",
    "1) Do hotter objects emit more longer or shorter wavelengths?  \n",
    "2) What colour light does our sun emit the most of?\n",
    "\n",
    "# Let's go: The Multi-Wavelength Sun\n",
    "\n",
    "We can approximate the sun as a black body (an object that absorbs and emits radiation at all frequencies). \n",
    "The sun emits black-body radiation. This is radiation of all frequencies in the electromagnetic spectrum.\n",
    "It doesn't emit the same amount of radiation for each frequency though - we know this because hot stars look blue and cooler stars red.\n",
    "Each black body has a peak of its radiation curve - this peak tells us what frequency of radiation is emitted the most.\n",
    "\n",
    "Let's visualise the black-body radiation from the sun:"
   ]
  },
  {
   "cell_type": "code",
   "execution_count": 2,
   "metadata": {},
   "outputs": [
    {
     "data": {
      "image/png": "[encoded data removed]",
      "text/plain": [
       "<Figure size 432x288 with 1 Axes>"
      ]
     },
     "metadata": {
      "needs_background": "light"
     },
     "output_type": "display_data"
    }
   ],
   "source": [
    "T = 5772 # K\n",
    "kb = 1.380649*10**(-23) # J/K\n",
    "c = 299792458 # m/s\n",
    "h = 6.62607015*10**(-34) # Js\n",
    "\n",
    "l = np.arange(0.01,3,0.01)\n",
    "# l in in micrometres, convert it to metres\n",
    "# then create an Array, B, of zeros the same length of l\n",
    "# Your code here:\n",
    "l = l*10**(-6)\n",
    "B = np.zeros(len(l))\n",
    "\n",
    "for i in range(len(l)):\n",
    "    B[i] = 2*h*c**2/l[i]**5 * 1/(np.exp(h*c/(l[i]*kb*T))-1)\n",
    "\n",
    "fig = plt.figure(2)\n",
    "ax = plt.subplot(xlim=(0,3),ylim=(0,3))\n",
    "ax.plot(l*10**6, B/10**13, c=\"gold\")\n",
    "ax.set_xlabel(\"Wavelength / micrometer\")\n",
    "ax.set_ylabel(\"Spectral Intensity / 10^13 W/sr/m^3\")\n",
    "ax.spines[\"top\"].set_visible(False)\n",
    "ax.spines[\"right\"].set_visible(False)"
   ]
  },
  {
   "cell_type": "markdown",
   "metadata": {},
   "source": [
    "You can see a shift to higher intensity and lower wavelength (higher energy) radiation for higher temperature curves.\n",
    "The peak wavelength shown on the graph can be calculated using Wein's Law:\n",
    "\n",
    "$\\lambda_{peak} = \\frac{b}{T}$\n",
    "\n",
    "where $b = 2.897771955\\times10^{-3}\\ mK$.  \n",
    "Let's calculate the lambda+peak for our sun and check the graph is correct:"
   ]
  },
  {
   "cell_type": "code",
   "execution_count": 4,
   "metadata": {},
   "outputs": [
    {
     "name": "stdout",
     "output_type": "stream",
     "text": [
      "The peak wavelength is : 502 nm\n"
     ]
    }
   ],
   "source": [
    "b = 2.897771955*10**(-3) # m K\n",
    "# use Wein's law to calculate the peak wavelength of the sun, what colour is this?\n",
    "# Your code here:\n",
    "lp = b/T\n",
    "\n",
    "print(\"The peak wavelength is : {:.0f} nm\".format(lp*10**9))"
   ]
  },
  {
   "cell_type": "markdown",
   "metadata": {},
   "source": [
    "502 nm just as expected! But wait, this is a wavlength of green blue not yellow like our sun is.  \n",
    "Don't forget the sun radiates other wavelengths as well. The longer tail on the right of the graph to the redder wavelengths means even though the peak wavelength is green overall the sun looks yellow.\n",
    "\n",
    "Before we move on to get more images let's look at the Stefan-Boltzmann Law.  \n",
    "We saw in the last graph that hotter stars radiate more and are therefore more luminous. But by how much?\n",
    "The Stefan-Boltzmann Law relates a star's temperature and radius to it's luminosity (the amount of energy emitted per second usually):\n",
    "\n",
    "$L = 4\\pi R^2\\sigma T_{e}^{4}$\n",
    "\n",
    "Here sigma is the Stefan-Boltzman constant and $T_{e}$ is the effective temperature. Te is the temperature of a blackbody that would emit the same amount of radiation as the object or star.  \n",
    "Let's calculate the luminosity of the sun using this law:"
   ]
  },
  {
   "cell_type": "code",
   "execution_count": 5,
   "metadata": {},
   "outputs": [
    {
     "name": "stdout",
     "output_type": "stream",
     "text": [
      "The Luminosity of the sun is : 3.83e+26 W\n"
     ]
    }
   ],
   "source": [
    "sigma = 5.670374419*10**(-8) # W m^-2 K^-4\n",
    "R = 6.957*10**8 # m\n",
    "# use Stefan-Boltzman's law above to calculate the luminosity of the sun\n",
    "# Your code here:\n",
    "Lsun = 4*np.pi*R**2*sigma*T**4\n",
    "\n",
    "print(\"The Luminosity of the sun is : {:.2e} W\".format(Lsun))"
   ]
  },
  {
   "cell_type": "markdown",
   "metadata": {},
   "source": [
    "We get very close to the accepted value of $3.828\\times10^{26}\\ W$.\n",
    "https://nssdc.gsfc.nasa.gov/planetary/factsheet/sunfact.html\n",
    "\n",
    "Of course the sun is not a perfect black body which we have assumed throughout this section.\n",
    "If were to plot observational data for the sun on our graph from earlier it would follow the gold curve but with dips and spikes.\n",
    "These are atomic absorption and emissions lines which we will look at in a future Notebook.\n",
    "\n",
    "# Warming the Planets\n",
    "\n",
    "The sun's radiation warms the planets. If we approximate the planets also as black bodies we can calculate their equilibrium temperature.\n",
    "This is the temperature a planet would be from just solar heating by absorbing all incident solar radiation and emitting it all as well (remember blackbodies emit and absorb radiation perfectly).\n",
    "The equilibrium temperature is achieved when the absorbed radiation is equal to the emitted radiation of the planet (gaining energy from radiation as fast as it is loosing it).\n",
    "The power the planet recieves is:\n",
    "\n",
    "$P_{in} = L_{\\odot}(1-a)(\\frac{\\pi R_{p}^{2}}{4\\pi D^2})$\n",
    "\n",
    "$P_{in} = 4\\pi R_{\\odot}^{2}\\sigma T_{\\odot}^{4}(1-a)(\\frac{\\pi R_{p}^{2}}{4\\pi D^2})$\n",
    "\n",
    "This is the luminosity of the sun times the fraction of light that is absorbed by the planet $(1-a)$. The final term is the area of the planet divided by the area of the sphere whos radius is the distance of the planet to the sun. It's essentially the amount of sunlight that reaches the planet since the radiation spreads out after leaving the solar surface according to the inverse square law.\n",
    "\n",
    "The power radiated from the planet is found using the stefan boltzmann law, $P_{out} = 4\\pi R_p^2\\sigma T_{p}^{4}$.\n",
    "Equating $P_{in}$ and $P_{out}$ we get:\n",
    "\n",
    "$T_{p} = T_{\\odot}(1-a)^{\\frac{1}{4}}\\sqrt{\\frac{R_{\\odot}}{2D}}$\n",
    "\n",
    "Here a is the albedo of the planet which is how much incident radiation is reflected back into space and not absorbed.\n",
    "Objects with icier or whiter surfaces have a higher albedo since ice and white objects reflect more light than darker objects."
   ]
  },
  {
   "cell_type": "code",
   "execution_count": 6,
   "metadata": {},
   "outputs": [
    {
     "name": "stdout",
     "output_type": "stream",
     "text": [
      "The Equilibrium Tmperature of the Earth is: 254 K\n",
      "The Equilibrium Tmperature of the Earth is: -19 °C\n"
     ]
    }
   ],
   "source": [
    "aEarth = 0.306\n",
    "Tsun = T\n",
    "Rsun = R\n",
    "AU = 149597870700 # m\n",
    "KtodegC = 273.15\n",
    "degSymb = '\\u00b0'\n",
    "\n",
    "dEarth = 1 * AU\n",
    "# use the equation above to calculate the effective temperature of the Earth\n",
    "# Your code here:\n",
    "TeqEarth = Tsun*(1-aEarth)**0.25*np.sqrt(Rsun/2/dEarth)\n",
    "\n",
    "print(\"The Equilibrium Tmperature of the Earth is: {:.0f} K\".format(TeqEarth))\n",
    "print(\"The Equilibrium Tmperature of the Earth is: {:.0f} {}C\".format(TeqEarth-KtodegC,degSymb))"
   ]
  },
  {
   "cell_type": "markdown",
   "metadata": {},
   "source": [
    "Wow chilly! This temperature doesn't take into account internal planetary heating or the greenhouse effect so it is lower than expected.\n",
    "\n",
    "# Challenge\n",
    "\n",
    " 1) Recreate my blackbody curve image  \n",
    " 2) Plot the actual solar spectrum using data from https://data.nodc.noaa.gov/cgi-bin/iso?id=gov.noaa.ncdc:C00899  \n",
    "    You will get something like this: https://en.wikipedia.org/wiki/File:EffectiveTemperature_300dpi_e.png  \n",
    " 3) Calculate the temperature at Mars, Venus, and Jupiter like we did for the Earth  \n",
    "    How do the values compare with the actual average surface temperatures?\n",
    "\n",
    "# References and Resources\n",
    "\n",
    "Mihos, C. (2020) Stars and Planets, Url: http://burro.case.edu/Academics/Astr221/SolarSys/equiltemp.html"
   ]
  },
  {
   "cell_type": "markdown",
   "metadata": {},
   "source": [
    "# Interactives\n",
    "\n",
    "Use these interactives to see how changing multiple variables alters the outcome.\n",
    "\n",
    "## Wien's Law\n",
    "\n",
    "The slider changes the Temperature of the star in K"
   ]
  },
  {
   "cell_type": "code",
   "execution_count": 7,
   "metadata": {},
   "outputs": [
    {
     "data": {
      "application/vnd.jupyter.widget-view+json": {
       "model_id": "86b165605f9547d8818017670200b680",
       "version_major": 2,
       "version_minor": 0
      },
      "text/plain": [
       "interactive(children=(IntSlider(value=5000, description='T', max=10000, min=1), Output()), _dom_classes=('widg…"
      ]
     },
     "metadata": {},
     "output_type": "display_data"
    }
   ],
   "source": [
    "from ipywidgets import interact, interactive, fixed, interact_manual\n",
    "import ipywidgets as widgets\n",
    "\n",
    "@interact(T=(1,10000))\n",
    "def weins(T):\n",
    "    b = 2.897771955*10**(-3) # m K\n",
    "    lp = b/T\n",
    "    print(\"The peak wavelength for temp {:.0f} K is : {:.0f} nm\".format(T, lp*10**9))"
   ]
  },
  {
   "cell_type": "markdown",
   "metadata": {},
   "source": [
    "## Luminosity using Stefan-Boltzman's Law\n",
    "\n",
    "The first slider Rsol changes the radius of the star in units of solar radii.  \n",
    "The second slider changes the temperature of the star in K."
   ]
  },
  {
   "cell_type": "code",
   "execution_count": 8,
   "metadata": {},
   "outputs": [
    {
     "data": {
      "application/vnd.jupyter.widget-view+json": {
       "model_id": "fb4c9fd1ff5a43e49042cc1eed6158b3",
       "version_major": 2,
       "version_minor": 0
      },
      "text/plain": [
       "interactive(children=(FloatSlider(value=15.200000000000001, description='Rsol', max=30.0, min=0.5), IntSlider(…"
      ]
     },
     "metadata": {},
     "output_type": "display_data"
    }
   ],
   "source": [
    "@interact(Rsol=(0.5,30,0.1),Temp=(2500,10000,1))\n",
    "def lumin(Rsol,Temp):\n",
    "    sigma = 5.670374419*10**(-8) # W m^-2 K^-4\n",
    "    Tsun = 5772 # K\n",
    "    Rsun = 6.957*10**8 # m\n",
    "    R = Rsun*Rsol\n",
    "    T = Temp\n",
    "    Lstar = 4*np.pi*R**2*sigma*T**4\n",
    "    Lsun = 4*np.pi*Rsun**2*sigma*Tsun**4\n",
    "    ratio = Lstar/Lsun\n",
    "    print(\"The Luminosity of the star is : {:.2e} W or {:.2f} times that of the sun\".format(Lsun,ratio))"
   ]
  },
  {
   "cell_type": "markdown",
   "metadata": {},
   "source": [
    "# Equilibrium Temperature\n",
    "\n",
    "a is the albedo of the body.  \n",
    "dist is the distance the body is from its star in AU.  \n",
    "Tstar is the temperature of the star in K.  \n",
    "Rstar is the radius of the star in solar radii."
   ]
  },
  {
   "cell_type": "code",
   "execution_count": 9,
   "metadata": {},
   "outputs": [
    {
     "data": {
      "application/vnd.jupyter.widget-view+json": {
       "model_id": "e8df5d9f4c3d42c59d80414bb8be4fd4",
       "version_major": 2,
       "version_minor": 0
      },
      "text/plain": [
       "interactive(children=(FloatSlider(value=0.0, description='a', max=1.0), FloatSlider(value=25.000000000000004, …"
      ]
     },
     "metadata": {},
     "output_type": "display_data"
    }
   ],
   "source": [
    "@interact(a=(0,1,0.1),dist=(0.1,50,0.1),Tstar=(2500,10000,1),Rstar=(0.5,30,0.1))\n",
    "def eqT(a, dist, Tstar, Rstar):\n",
    "    Rsun = 6.957*10**8 # m\n",
    "    R = Rstar*Rsun\n",
    "    AU = 149597870700 # m\n",
    "    KtodegC = 273.15\n",
    "    degSymb = '\\u00b0'\n",
    "    d = dist * AU\n",
    "    eqT = Tstar*(1-a)**0.25*np.sqrt(R/2/d)\n",
    "    print(\"The Equilibrium Temperature of this body is: {:.0f} K or {:.0f} {}C\".format(eqT, eqT-KtodegC,degSymb))"
   ]
  },
  {
   "cell_type": "markdown",
   "metadata": {},
   "source": [
    "## Blackbody Curves\n",
    "\n",
    "Here the slider is changing the temperature of the blackbody.  \n",
    "Notice that the y axis is set to scale based on the max intensity value for the current temp."
   ]
  },
  {
   "cell_type": "code",
   "execution_count": 10,
   "metadata": {},
   "outputs": [
    {
     "data": {
      "application/vnd.jupyter.widget-view+json": {
       "model_id": "cff4f6529a5547dda33dfdc2cc1c8792",
       "version_major": 2,
       "version_minor": 0
      },
      "text/plain": [
       "interactive(children=(FloatSlider(value=2500.0, continuous_update=False, description='T', max=10000.0, min=250…"
      ]
     },
     "metadata": {},
     "output_type": "display_data"
    }
   ],
   "source": [
    "from ipywidgets import FloatSlider\n",
    "\n",
    "def blackBody(T):\n",
    "    kb = 1.380649*10**(-23) # J/K\n",
    "    c = 299792458 # m/s\n",
    "    h = 6.62607015*10**(-34) # Js\n",
    "    \n",
    "    l = np.arange(0.01,4,0.01)*10**(-6)\n",
    "    B = np.zeros(len(l))\n",
    "\n",
    "    for i in range(len(l)):\n",
    "        B[i] = 2*h*c**2/l[i]**5 * 1/(np.exp(h*c/(l[i]*kb*T))-1)\n",
    "\n",
    "    fig = plt.figure(num=3,figsize=(15,10))\n",
    "    ax = plt.subplot(xlim=(0,3),ylim=(0,np.floor(max(B)/10**13+1)))\n",
    "    ax.plot(l*10**6, B/10**13, c=\"gold\")\n",
    "    ax.set_xlabel(\"Wavelength / micrometer\")\n",
    "    ax.set_ylabel(\"Spectral Intensity / 10^13 W/sr/m^3\")\n",
    "    ax.spines[\"top\"].set_visible(False)\n",
    "    ax.spines[\"right\"].set_visible(False)\n",
    "    plt.show()\n",
    "\n",
    "interactive_plot = interactive(blackBody, T=FloatSlider(min=2500,max=10000,step=1,continuous_update=False))\n",
    "interactive_plot"
   ]
  },
  {
   "cell_type": "code",
   "execution_count": 14,
   "metadata": {},
   "outputs": [
    {
     "name": "stdout",
     "output_type": "stream",
     "text": [
      "The watermark extension is already loaded. To reload it, use:\n",
      "  %reload_ext watermark\n",
      "Python implementation: CPython\n",
      "Python version       : 3.8.8\n",
      "IPython version      : 7.22.0\n",
      "\n",
      "numpy     : 1.20.1\n",
      "matplotlib: 3.3.4\n",
      "IPython   : 7.22.0\n",
      "watermark : 2.2.0\n",
      "\n",
      "Compiler    : MSC v.1916 64 bit (AMD64)\n",
      "OS          : Windows\n",
      "Release     : 10\n",
      "Machine     : AMD64\n",
      "Processor   : Intel64 Family 6 Model 140 Stepping 1, GenuineIntel\n",
      "CPU cores   : 8\n",
      "Architecture: 64bit\n",
      "\n",
      " \n",
      "Last updated: Thu Sep 16 2021 10:12:00GMT Summer Time\n",
      "\n"
     ]
    }
   ],
   "source": [
    "%load_ext watermark\n",
    "\n",
    "# python, ipython, packages, and machine characteristics\n",
    "%watermark -v -m -p numpy,matplotlib,IPython,watermark \n",
    "\n",
    "# date\n",
    "print (\" \")\n",
    "%watermark -u -n -t -z\n",
    "\n"
   ]
  },
  {
   "cell_type": "code",
   "execution_count": null,
   "metadata": {},
   "outputs": [],
   "source": []
  }
 ],
 "metadata": {
  "kernelspec": {
   "display_name": "Python 3",
   "language": "python",
   "name": "python3"
  },
  "language_info": {
   "codemirror_mode": {
    "name": "ipython",
    "version": 3
   },
   "file_extension": ".py",
   "mimetype": "text/x-python",
   "name": "python",
   "nbconvert_exporter": "python",
   "pygments_lexer": "ipython3",
   "version": "3.8.8"
  }
 },
 "nbformat": 4,
 "nbformat_minor": 4
}
